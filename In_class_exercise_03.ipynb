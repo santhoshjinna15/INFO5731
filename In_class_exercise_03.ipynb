{
  "nbformat": 4,
  "nbformat_minor": 0,
  "metadata": {
    "kernelspec": {
      "display_name": "Python 3",
      "language": "python",
      "name": "python3"
    },
    "language_info": {
      "codemirror_mode": {
        "name": "ipython",
        "version": 3
      },
      "file_extension": ".py",
      "mimetype": "text/x-python",
      "name": "python",
      "nbconvert_exporter": "python",
      "pygments_lexer": "ipython3",
      "version": "3.7.4"
    },
    "colab": {
      "name": "In-class-exercise-03.ipynb",
      "provenance": [],
      "include_colab_link": true
    }
  },
  "cells": [
    {
      "cell_type": "markdown",
      "metadata": {
        "id": "view-in-github",
        "colab_type": "text"
      },
      "source": [
        "<a href=\"https://colab.research.google.com/github/santhoshjinna15/INFO5731/blob/main/In_class_exercise_03.ipynb\" target=\"_parent\"><img src=\"https://colab.research.google.com/assets/colab-badge.svg\" alt=\"Open In Colab\"/></a>"
      ]
    },
    {
      "cell_type": "markdown",
      "metadata": {
        "id": "MLxTxUbtQRXN"
      },
      "source": [
        "## The third In-class-exercise (9/16/2020, 20 points in total)"
      ]
    },
    {
      "cell_type": "markdown",
      "metadata": {
        "id": "GKgHdf3tQRXT"
      },
      "source": [
        "The purpose of this exercise is to under users' information needs, then collect the data for analysis."
      ]
    },
    {
      "cell_type": "markdown",
      "metadata": {
        "id": "paoL5sMIQRXU"
      },
      "source": [
        "Question 1 (8 points): Describe an interesting research question (or practical question) you have in mind, what kind of data should be collected to answer the question(s)? How many data needed for the analysis? The detail steps for collecting and save the data. "
      ]
    },
    {
      "cell_type": "code",
      "metadata": {
        "id": "9K7I6hYpQRXU"
      },
      "source": [
        "# Your answer here (no code for this question, write down your answer as detail as possible for the above questions):\n",
        "\n",
        "'''\n",
        "Research question - What are the reviews and ratings of a product,wheather it is positve or Negative?\n",
        "\n",
        "Product i choosed:boAt AAVANTE BAR 1150 60 W Bluetooth Soundbar\n",
        "Website:Any ecommerce website which have minimum of 500 reviews(here i took flipcart) \n",
        "Aim : To collect minimum of 500 reviews of above product from total reviews.\n",
        "\n",
        "\n",
        "Steps for Collecting and Saving Data:\n",
        "I have used the BeautifulSoup library to extract the information from the website.\n",
        "I have extracted the reviews by using the classname(using inspect of webpage) and then appended to the empty list.\n",
        "To extract a mininum of 500 reviews I have itearted 60 times as each page contains 10 reviews and I have generated the url dynamically while iterating\n",
        "Then created a dataframe form the list and then converted dataframe to csv\n",
        "\n",
        "\n",
        "\n",
        "\n",
        "\n",
        "'''"
      ],
      "execution_count": null,
      "outputs": []
    },
    {
      "cell_type": "markdown",
      "metadata": {
        "id": "brQA1GzXQRXU"
      },
      "source": [
        "Question 2 (12 points): Write python code to collect 500 items of the data you plan to collect above."
      ]
    },
    {
      "cell_type": "code",
      "metadata": {
        "colab": {
          "base_uri": "https://localhost:8080/",
          "height": 433
        },
        "id": "P2PtEmazQRXV",
        "outputId": "aacce192-9d86-40ab-f94f-6f7afb908eb6"
      },
      "source": [
        "import requests\n",
        "from bs4 import BeautifulSoup\n",
        "import pandas as pd\n",
        "main_text = [] # List to store Review headings\n",
        "sub_text =[] #List to store reviews\n",
        "sub_rating=[]#List to store ratings\n",
        "for number in range(60):\n",
        "  link = \"https://www.flipkart.com/boat-aavante-bar-1150-60-w-bluetooth-soundbar/product-reviews/itm1fe41ecae973b?pid=ACCFH425PNGFUHAU&lid=LSTACCFH425PNGFUHAUROM019&marketplace=FLIPKART&page=\" + str(number) # Generating link dynamically\n",
        " # print(link)\n",
        "  page = requests.get(link) # Accessing the webpage\n",
        "  soup = BeautifulSoup(page.text, 'html.parser')\n",
        "  main_reviews = soup.find_all(class_='_2-N8zT') # Getting the Review Heading by using the class name\n",
        "  text_reviews = soup.find_all(class_='t-ZTKy') # Getting the full reviews by using the class name\n",
        "  rating       = soup.find_all(class_='_3LWZlK _1BLPMq')\n",
        "  for ele, sub_ele,sub_in_ele in zip(main_reviews, text_reviews,rating) : # Iterating through the list\n",
        "      main_text.append(ele.text) #Appending to empty list\n",
        "      sub_text.append(sub_ele.text)\n",
        "      sub_rating.append(sub_in_ele.text)\n",
        "df = pd.DataFrame(list(zip(main_text, sub_text,sub_rating)), columns =['Glimpse of Review', 'Full Review','Rating'])  # Creating Dataframe\n",
        "print(\"Length of data frame is {0}\".format(len(df)))\n",
        "df"
      ],
      "execution_count": 10,
      "outputs": [
        {
          "output_type": "stream",
          "text": [
            "Length of data frame is 531\n"
          ],
          "name": "stdout"
        },
        {
          "output_type": "execute_result",
          "data": {
            "text/html": [
              "<div>\n",
              "<style scoped>\n",
              "    .dataframe tbody tr th:only-of-type {\n",
              "        vertical-align: middle;\n",
              "    }\n",
              "\n",
              "    .dataframe tbody tr th {\n",
              "        vertical-align: top;\n",
              "    }\n",
              "\n",
              "    .dataframe thead th {\n",
              "        text-align: right;\n",
              "    }\n",
              "</style>\n",
              "<table border=\"1\" class=\"dataframe\">\n",
              "  <thead>\n",
              "    <tr style=\"text-align: right;\">\n",
              "      <th></th>\n",
              "      <th>Glimpse of Review</th>\n",
              "      <th>Full Review</th>\n",
              "      <th>Rating</th>\n",
              "    </tr>\n",
              "  </thead>\n",
              "  <tbody>\n",
              "    <tr>\n",
              "      <th>0</th>\n",
              "      <td>Wonderful</td>\n",
              "      <td>sound is really good , even without sub woofer...</td>\n",
              "      <td>4</td>\n",
              "    </tr>\n",
              "    <tr>\n",
              "      <th>1</th>\n",
              "      <td>Worth every penny</td>\n",
              "      <td>excellent product, nice sound quality, preset ...</td>\n",
              "      <td>5</td>\n",
              "    </tr>\n",
              "    <tr>\n",
              "      <th>2</th>\n",
              "      <td>Awesome</td>\n",
              "      <td>Best Brand, Built quality is very good, No mor...</td>\n",
              "      <td>5</td>\n",
              "    </tr>\n",
              "    <tr>\n",
              "      <th>3</th>\n",
              "      <td>Master Blaster</td>\n",
              "      <td>Using it since last 6 days :PROS :1)  Stylish ...</td>\n",
              "      <td>4</td>\n",
              "    </tr>\n",
              "    <tr>\n",
              "      <th>4</th>\n",
              "      <td>Mind-blowing purchase</td>\n",
              "      <td>Excellent product, nice sound quality. sound i...</td>\n",
              "      <td>5</td>\n",
              "    </tr>\n",
              "    <tr>\n",
              "      <th>...</th>\n",
              "      <td>...</td>\n",
              "      <td>...</td>\n",
              "      <td>...</td>\n",
              "    </tr>\n",
              "    <tr>\n",
              "      <th>526</th>\n",
              "      <td>Worth the money</td>\n",
              "      <td>Good...READ MORE</td>\n",
              "      <td>4</td>\n",
              "    </tr>\n",
              "    <tr>\n",
              "      <th>527</th>\n",
              "      <td>Nice product</td>\n",
              "      <td>Very good , excellent sleek design , good look...</td>\n",
              "      <td>4</td>\n",
              "    </tr>\n",
              "    <tr>\n",
              "      <th>528</th>\n",
              "      <td>Very Good</td>\n",
              "      <td>Product was very nice bass and clarity of soun...</td>\n",
              "      <td>4</td>\n",
              "    </tr>\n",
              "    <tr>\n",
              "      <th>529</th>\n",
              "      <td>Nice product</td>\n",
              "      <td>Good product but the installation process is w...</td>\n",
              "      <td>4</td>\n",
              "    </tr>\n",
              "    <tr>\n",
              "      <th>530</th>\n",
              "      <td>Not recommended at all</td>\n",
              "      <td>Very Bad experience with flipkart and delivery...</td>\n",
              "      <td>5</td>\n",
              "    </tr>\n",
              "  </tbody>\n",
              "</table>\n",
              "<p>531 rows × 3 columns</p>\n",
              "</div>"
            ],
            "text/plain": [
              "          Glimpse of Review  ... Rating\n",
              "0                 Wonderful  ...      4\n",
              "1         Worth every penny  ...      5\n",
              "2                   Awesome  ...      5\n",
              "3            Master Blaster  ...      4\n",
              "4     Mind-blowing purchase  ...      5\n",
              "..                      ...  ...    ...\n",
              "526         Worth the money  ...      4\n",
              "527            Nice product  ...      4\n",
              "528               Very Good  ...      4\n",
              "529            Nice product  ...      4\n",
              "530  Not recommended at all  ...      5\n",
              "\n",
              "[531 rows x 3 columns]"
            ]
          },
          "metadata": {
            "tags": []
          },
          "execution_count": 10
        }
      ]
    },
    {
      "cell_type": "code",
      "metadata": {
        "id": "G0ZjV9-yFrPz"
      },
      "source": [
        "df.to_csv('data.csv', index=False) #Converting to csv file from dataframe"
      ],
      "execution_count": 11,
      "outputs": []
    }
  ]
}